{
  "nbformat": 4,
  "nbformat_minor": 0,
  "metadata": {
    "colab": {
      "provenance": [],
      "gpuType": "T4",
      "mount_file_id": "1r7gQVpsCWzqlhPIEE5w_j7lb9TbcfREy",
      "authorship_tag": "ABX9TyPiJ8bn7KmyGgiRy82Dbg4J",
      "include_colab_link": true
    },
    "kernelspec": {
      "name": "python3",
      "display_name": "Python 3"
    },
    "language_info": {
      "name": "python"
    },
    "accelerator": "GPU"
  },
  "cells": [
    {
      "cell_type": "markdown",
      "metadata": {
        "id": "view-in-github",
        "colab_type": "text"
      },
      "source": [
        "<a href=\"https://colab.research.google.com/github/Flychuban/Image-Classifier-Deep-Learning/blob/main/ImageClassifierDeepLearning.ipynb\" target=\"_parent\"><img src=\"https://colab.research.google.com/assets/colab-badge.svg\" alt=\"Open In Colab\"/></a>"
      ]
    },
    {
      "cell_type": "code",
      "execution_count": 1,
      "metadata": {
        "id": "iXGcQyuVyRRg"
      },
      "outputs": [],
      "source": [
        "import numpy as np\n",
        "import tensorflow as tf\n",
        "import os"
      ]
    },
    {
      "cell_type": "code",
      "source": [
        "# Avoid OOM error\n",
        "gpus = tf.config.experimental.list_physical_devices('GPU')\n",
        "for gpu in gpus:\n",
        "  tf.config.experimental.set_memory_growth(gpu, True)"
      ],
      "metadata": {
        "id": "9TWo6sAxzJYk"
      },
      "execution_count": 4,
      "outputs": []
    },
    {
      "cell_type": "code",
      "source": [
        "import cv2\n",
        "import imghdr"
      ],
      "metadata": {
        "id": "ihZGRLwQz9Do"
      },
      "execution_count": 5,
      "outputs": []
    },
    {
      "cell_type": "code",
      "source": [
        "data_dir = os.path.join('drive', 'MyDrive', 'ImageClassifierDeepLearning', 'data')\n",
        "print(data_dir)\n",
        "print('/content/drive/MyDrive/ImageClassifierDeepLearning/data')"
      ],
      "metadata": {
        "colab": {
          "base_uri": "https://localhost:8080/"
        },
        "id": "62MYt9Cj6_ld",
        "outputId": "5110c668-9ad7-43f4-c6e4-94d5522b4d91"
      },
      "execution_count": 11,
      "outputs": [
        {
          "output_type": "stream",
          "name": "stdout",
          "text": [
            "drive/MyDrive/ImageClassifierDeepLearning/data\n",
            "/content/drive/MyDrive/ImageClassifierDeepLearning/data\n"
          ]
        }
      ]
    },
    {
      "cell_type": "code",
      "source": [
        "image_exts = ['jpeg', 'jpg', 'png', 'bmp']"
      ],
      "metadata": {
        "id": "92lxEvBD3_Cd"
      },
      "execution_count": 7,
      "outputs": []
    },
    {
      "cell_type": "code",
      "source": [
        "# Remove corrupted images\n",
        "for image_class in os.listdir(data_dir):\n",
        "  for image in os.listdir(os.path.join(data_dir, image_class)):\n",
        "    image_path = os.path.join(data_dir, image_class, image)\n",
        "    try:\n",
        "      img = cv2.imread(image_path)\n",
        "      tip = imghdr.what(image_path)\n",
        "      if tip not in image_exts:\n",
        "        print(f\"Image not in ext list {image_path}\")\n",
        "        os.remove(image_path)\n",
        "    except Exception as e:\n",
        "      print(f\"Issue with image {image_path}\")"
      ],
      "metadata": {
        "id": "ezJIR3Q04LYD"
      },
      "execution_count": 13,
      "outputs": []
    },
    {
      "cell_type": "code",
      "source": [],
      "metadata": {
        "id": "JbU3TMWC6vSE"
      },
      "execution_count": null,
      "outputs": []
    }
  ]
}